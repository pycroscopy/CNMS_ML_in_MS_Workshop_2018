{
 "cells": [
  {
   "cell_type": "markdown",
   "metadata": {},
   "source": [
    "# Analysis of Markov transition probabilities for lattice atomic defects"
   ]
  },
  {
   "cell_type": "markdown",
   "metadata": {},
   "source": [
    "### Authors: Artem Maksov, Maxim Ziatdinov*"
   ]
  },
  {
   "cell_type": "markdown",
   "metadata": {},
   "source": [
    "*_Correspondence to: ziatdinovmax@gmail.com_\n",
    "\n",
    "_Date: 02/28/2018_    "
   ]
  },
  {
   "cell_type": "markdown",
   "metadata": {},
   "source": [
    "In this notebook, we demonstrate how to use an information on occurence of several defect states along the multiple isolated trajectories can be used to construct Markov (transition) matrix."
   ]
  },
  {
   "cell_type": "code",
   "execution_count": 1,
   "metadata": {
    "collapsed": true
   },
   "outputs": [],
   "source": [
    "import numpy as np\n",
    "import matplotlib.pyplot as plt\n",
    "\n",
    "%matplotlib inline"
   ]
  },
  {
   "cell_type": "code",
   "execution_count": 2,
   "metadata": {
    "collapsed": true
   },
   "outputs": [],
   "source": [
    "flow = np.load('flow.npy')"
   ]
  },
  {
   "cell_type": "markdown",
   "metadata": {},
   "source": [
    "We can interpret traces as lists containing class label at every timestep that label is defined on"
   ]
  },
  {
   "cell_type": "code",
   "execution_count": 3,
   "metadata": {
    "collapsed": true
   },
   "outputs": [],
   "source": [
    "fl_cl = dict()\n",
    "\n",
    "for i in flow.item():\n",
    "    fl_cl[i] = list()\n",
    "    for it in flow.item()[i]:\n",
    "        clustnums = [1, 2, 3, 4]\n",
    "        for cl in clustnums:\n",
    "            if len(flow.item()[i][it][cl]) > 0:\n",
    "                fl_cl[i].append(cl)"
   ]
  },
  {
   "cell_type": "markdown",
   "metadata": {},
   "source": [
    "We relabel the classes to prepare for inferring transition probabilities:"
   ]
  },
  {
   "cell_type": "code",
   "execution_count": 4,
   "metadata": {
    "collapsed": true
   },
   "outputs": [],
   "source": [
    "for trace in fl_cl:\n",
    "    fl_cl[trace] = [a-1 for a in fl_cl[trace]]"
   ]
  },
  {
   "cell_type": "markdown",
   "metadata": {},
   "source": [
    "We define a function to get probabilities from observations"
   ]
  },
  {
   "cell_type": "code",
   "execution_count": 5,
   "metadata": {
    "collapsed": true
   },
   "outputs": [],
   "source": [
    "def transition_matrix(trace):\n",
    "    n = 1+ max(trace) #number of states\n",
    "\n",
    "    #M = [[0]*n for _ in range(n)]\n",
    "    M = np.zeros(shape=(n, n))\n",
    "    \n",
    "    for (i,j) in zip(trace,trace[1:]):\n",
    "        M[i][j] += 1\n",
    "\n",
    "    #now convert to probabilities:\n",
    "    for row in M:\n",
    "        s = sum(row)\n",
    "        if s > 0:\n",
    "            row[:] = [f/s for f in row]\n",
    "    return M"
   ]
  },
  {
   "cell_type": "markdown",
   "metadata": {},
   "source": [
    "We calculate probabilities for all recorded traces and calculate mean"
   ]
  },
  {
   "cell_type": "code",
   "execution_count": 6,
   "metadata": {
    "collapsed": true
   },
   "outputs": [],
   "source": [
    "m = np.zeros(shape = (len(fl_cl), 4, 4))"
   ]
  },
  {
   "cell_type": "code",
   "execution_count": 7,
   "metadata": {
    "collapsed": true
   },
   "outputs": [],
   "source": [
    "for i in fl_cl:\n",
    "    m[i] = transition_matrix(fl_cl[i])"
   ]
  },
  {
   "cell_type": "code",
   "execution_count": 8,
   "metadata": {
    "collapsed": true
   },
   "outputs": [],
   "source": [
    "mtot = np.mean(m, axis=0)"
   ]
  },
  {
   "cell_type": "code",
   "execution_count": 9,
   "metadata": {},
   "outputs": [
    {
     "name": "stdout",
     "output_type": "stream",
     "text": [
      "[[ 0.10813397  0.31901914  0.265311    0.30753589]\n",
      " [ 0.12245688  0.18133569  0.35623065  0.33997678]\n",
      " [ 0.18299351  0.23385332  0.26509152  0.31806165]\n",
      " [ 0.16767163  0.20472051  0.28236597  0.3452419 ]]\n"
     ]
    }
   ],
   "source": [
    "print(mtot)"
   ]
  },
  {
   "cell_type": "code",
   "execution_count": 10,
   "metadata": {},
   "outputs": [
    {
     "data": {
      "image/png": "[encoded data removed]",
      "text/plain": [
       "<matplotlib.figure.Figure at 0x22b65566b70>"
      ]
     },
     "metadata": {},
     "output_type": "display_data"
    }
   ],
   "source": [
    "fig450 = plt.figure(450, figsize=(5, 5))\n",
    "ax = fig450.add_subplot(111)\n",
    "imsh = ax.imshow(mtot, cmap='jet', vmin = 0., vmax = 0.5)\n",
    "ax.set_xticks([0, 1, 2, 3])\n",
    "ax.set_yticks([0, 1, 2, 3])\n",
    "ax.set_xlabel('Transtion class')\n",
    "ax.set_ylabel('Starting class')\n",
    "\n",
    "for (j,i),label in np.ndenumerate(mtot):\n",
    "    ax.text(i,j, \"%.2f\" % label,ha='center',va='center')\n",
    "    \n",
    "#fig450.savefig(directory + 'trans_prob' + '.png')"
   ]
  },
  {
   "cell_type": "code",
   "execution_count": null,
   "metadata": {
    "collapsed": true
   },
   "outputs": [],
   "source": []
  }
 ],
 "metadata": {
  "kernelspec": {
   "display_name": "Python 3",
   "language": "python",
   "name": "python3"
  },
  "language_info": {
   "codemirror_mode": {
    "name": "ipython",
    "version": 3
   },
   "file_extension": ".py",
   "mimetype": "text/x-python",
   "name": "python",
   "nbconvert_exporter": "python",
   "pygments_lexer": "ipython3",
   "version": "3.5.3"
  }
 },
 "nbformat": 4,
 "nbformat_minor": 2
}
