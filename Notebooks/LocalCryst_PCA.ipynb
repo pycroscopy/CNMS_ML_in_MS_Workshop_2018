{
 "cells": [
  {
   "cell_type": "markdown",
   "metadata": {},
   "source": [
    "# Local Crystallography Analysis for Lattice Atomic Defects"
   ]
  },
  {
   "cell_type": "markdown",
   "metadata": {},
   "source": [
    "### Authors: Artem Maksov, Maxim Ziatdinov*"
   ]
  },
  {
   "cell_type": "markdown",
   "metadata": {},
   "source": [
    "*_Correspondence to: ziatdinovmax@gmail.com_\n",
    "\n",
    "_Date: 02/28/2018_    "
   ]
  },
  {
   "cell_type": "markdown",
   "metadata": {},
   "source": [
    "In this notebook, we demonstrate how to study statistically significant deformation of the nearest neighborhood for each extracted defect structure using principal component analysis (PCA)"
   ]
  },
  {
   "cell_type": "markdown",
   "metadata": {},
   "source": [
    "### Import modules"
   ]
  },
  {
   "cell_type": "code",
   "execution_count": 1,
   "metadata": {},
   "outputs": [
    {
     "name": "stderr",
     "output_type": "stream",
     "text": [
      "Using TensorFlow backend.\n"
     ]
    }
   ],
   "source": [
    "import os\n",
    "import h5py\n",
    " \n",
    "import numpy as np\n",
    "from scipy import ndimage\n",
    "import cv2\n",
    "\n",
    "import matplotlib\n",
    "import matplotlib.pylab as plt\n",
    "import matplotlib.gridspec as gridspec\n",
    "import pylab as P\n",
    "\n",
    "from keras.models import load_model\n",
    "\n",
    "from scipy.spatial import cKDTree\n",
    "\n",
    "%matplotlib inline"
   ]
  },
  {
   "cell_type": "markdown",
   "metadata": {},
   "source": [
    "### Structure of the defects"
   ]
  },
  {
   "cell_type": "markdown",
   "metadata": {},
   "source": [
    "#### 1. Finding coordinates"
   ]
  },
  {
   "cell_type": "markdown",
   "metadata": {},
   "source": [
    "We can use a pretrained convolutional neural network model for atomic coordinates identification"
   ]
  },
  {
   "cell_type": "code",
   "execution_count": 4,
   "metadata": {
    "collapsed": true
   },
   "outputs": [],
   "source": [
    "atomgen = load_model('AtomGen_small5-8.h5')"
   ]
  },
  {
   "cell_type": "code",
   "execution_count": 5,
   "metadata": {
    "collapsed": true
   },
   "outputs": [],
   "source": [
    "totdefim = np.load('defim.npy')"
   ]
  },
  {
   "cell_type": "code",
   "execution_count": 6,
   "metadata": {
    "collapsed": true
   },
   "outputs": [],
   "source": [
    "totdefim2 = totdefim[:, :, :].reshape(totdefim.shape[0], totdefim.shape[1], totdefim.shape[2], 1)"
   ]
  },
  {
   "cell_type": "code",
   "execution_count": 7,
   "metadata": {
    "collapsed": true
   },
   "outputs": [],
   "source": [
    "totpred = atomgen.predict(totdefim2).reshape(len(totdefim2), 32, 32, 2)"
   ]
  },
  {
   "cell_type": "markdown",
   "metadata": {},
   "source": [
    "Extracting coordinates of atoms in all the defect structures"
   ]
  },
  {
   "cell_type": "code",
   "execution_count": 8,
   "metadata": {
    "collapsed": true
   },
   "outputs": [],
   "source": [
    "def coord_edges(coordinates, dist_edge):\n",
    "    return [coordinates[0] > target_size[0] - dist_edge, coordinates[0] < dist_edge,\n",
    "            coordinates[1] > target_size[0] - dist_edge, coordinates[1] < dist_edge]\n",
    "    \n",
    "def get_coordinates(input_imgs, decoded_imgs, channel = 0, threshold = 0.75, dist_edge = 0):\n",
    "    d_list = list()\n",
    "    for i in range(input_imgs.shape[0]):\n",
    "        input_img = input_imgs[i,:,:,0]\n",
    "        decoded_img = decoded_imgs[i,:,:,channel]\n",
    "        _,thresh = cv2.threshold(decoded_img, threshold, 1, cv2.THRESH_BINARY) \n",
    "        labels, nlabels = ndimage.label(thresh)\n",
    "        coord = np.array(ndimage.center_of_mass(thresh, labels, np.arange(nlabels)+1))\n",
    "        coord = coord.reshape(coord.shape[0], 2)\n",
    "       \n",
    "        coord_to_rem = [idx for idx, c in enumerate(coord) if any(coord_edges(c, dist_edge))]\n",
    "        coord_to_rem = np.array(coord_to_rem, dtype = int)\n",
    "        coord = np.delete(coord, coord_to_rem, axis = 0)\n",
    "             \n",
    "        d_list.append(coord)\n",
    "                  \n",
    "    return d_list"
   ]
  },
  {
   "cell_type": "code",
   "execution_count": 9,
   "metadata": {
    "collapsed": true
   },
   "outputs": [],
   "source": [
    "target_size = (32, 32)\n",
    "atomic_coord = get_coordinates(totdefim2, totpred, channel = 1)"
   ]
  },
  {
   "cell_type": "markdown",
   "metadata": {},
   "source": [
    "#### 2. Finding structural elements"
   ]
  },
  {
   "cell_type": "markdown",
   "metadata": {},
   "source": [
    "To be able to compare structure of the images we need to:\n",
    "    1. Choose fixed origin - in this case it will be the center of extracted image which corresponds to our initial defect coordinate\n",
    "    2. Choose fixed number of atoms to work with - in this case we are going to look at 7\n",
    "    3. Find the average positions of atoms we are going to look at.\n",
    "    4. For each image, find the atomic coordinates corresponding to those.\n",
    "    \n",
    "First, let us look at how the code works:"
   ]
  },
  {
   "cell_type": "markdown",
   "metadata": {},
   "source": [
    "We define center of the image and number of neighbors to look at:"
   ]
  },
  {
   "cell_type": "code",
   "execution_count": 10,
   "metadata": {
    "collapsed": true
   },
   "outputs": [],
   "source": [
    "clusters = np.load('clusters.npy')"
   ]
  },
  {
   "cell_type": "code",
   "execution_count": 11,
   "metadata": {
    "collapsed": true
   },
   "outputs": [],
   "source": [
    "imcenter = [15.5, 15.5]\n",
    "nn = 7"
   ]
  },
  {
   "cell_type": "markdown",
   "metadata": {},
   "source": [
    "We get the average image for a cluster and find the atoms to look at:"
   ]
  },
  {
   "cell_type": "code",
   "execution_count": 27,
   "metadata": {
    "collapsed": true
   },
   "outputs": [],
   "source": [
    "numcluster = 1\n",
    "cl = totdefim[clusters == numcluster]\n",
    "cla = np.mean(cl, axis=0)\n",
    "cla2 = cla.reshape(1, cla.shape[0], cla.shape[1], 1)\n",
    "clapred = atomgen.predict(cla2).reshape(1, cla.shape[0], cla.shape[0], 2)\n",
    "cla_coord = get_coordinates(cla2, clapred, channel = 1)[0]\n",
    "\n",
    "T = cKDTree(cla_coord)\n",
    "d, ix = T.query(imcenter, nn)"
   ]
  },
  {
   "cell_type": "code",
   "execution_count": 28,
   "metadata": {},
   "outputs": [
    {
     "data": {
      "text/plain": [
       "<matplotlib.image.AxesImage at 0x21160911860>"
      ]
     },
     "execution_count": 28,
     "metadata": {},
     "output_type": "execute_result"
    },
    {
     "data": {
      "image/png": "[encoded data removed]",
      "text/plain": [
       "<matplotlib.figure.Figure at 0x21162c3c240>"
      ]
     },
     "metadata": {},
     "output_type": "display_data"
    }
   ],
   "source": [
    "fig441 = plt.figure(441)\n",
    "ax = fig441.add_subplot(121)\n",
    "ax.imshow(cla)\n",
    "ax.scatter(cla_coord[:, 1], cla_coord[:, 0], c='green')\n",
    "ax.scatter(cla_coord[ix, 1], cla_coord[ix, 0], c='red')\n",
    "ax = fig441.add_subplot(122)\n",
    "ax.imshow(clapred[0,:,:,1])"
   ]
  },
  {
   "cell_type": "markdown",
   "metadata": {},
   "source": [
    "Now, for an example of defect from this class, we can find nearest atoms to those of the average image:"
   ]
  },
  {
   "cell_type": "code",
   "execution_count": 14,
   "metadata": {
    "collapsed": true
   },
   "outputs": [],
   "source": [
    "T2 = cKDTree(atomic_coord[0])\n",
    "d2, ix2 = T2.query(cla_coord[ix], 1)"
   ]
  },
  {
   "cell_type": "code",
   "execution_count": 15,
   "metadata": {},
   "outputs": [
    {
     "data": {
      "text/plain": [
       "<matplotlib.collections.PathCollection at 0x211629e2a20>"
      ]
     },
     "execution_count": 15,
     "metadata": {},
     "output_type": "execute_result"
    },
    {
     "data": {
      "image/png": "[encoded data removed]",
      "text/plain": [
       "<matplotlib.figure.Figure at 0x21161954c88>"
      ]
     },
     "metadata": {},
     "output_type": "display_data"
    }
   ],
   "source": [
    "fig442 = plt.figure(442)\n",
    "ax = fig442.add_subplot(121)\n",
    "ax.imshow(cla)\n",
    "ax.scatter(cla_coord[:, 1], cla_coord[:, 0], c='green')\n",
    "ax.scatter(cla_coord[ix, 1], cla_coord[ix, 0], c='red')\n",
    "ax = fig442.add_subplot(122)\n",
    "ax.imshow(totdefim[0])\n",
    "ax.scatter(atomic_coord[0][:, 1], atomic_coord[0][:, 0], c='green' )\n",
    "ax.scatter(atomic_coord[0][ix2, 1], atomic_coord[0][ix2, 0], c='red' )"
   ]
  },
  {
   "cell_type": "markdown",
   "metadata": {},
   "source": [
    "This allows us to create a matrix of positions of the same atoms in each individual example:"
   ]
  },
  {
   "cell_type": "code",
   "execution_count": 16,
   "metadata": {
    "collapsed": true
   },
   "outputs": [],
   "source": [
    "ndefs = (clusters == numcluster).sum()\n",
    "coormat = np.zeros(shape=(ndefs, 14))\n",
    "defcount = 0\n",
    "for i in range(len(atomic_coord)):\n",
    "    if clusters[i] == numcluster:\n",
    "        T2 = cKDTree(atomic_coord[i])\n",
    "        d2, ix2 = T2.query(cla_coord[ix], 1)\n",
    "        coormat[defcount, 0:7] = atomic_coord[i][ix2, 1]\n",
    "        coormat[defcount, 7:] = atomic_coord[i][ix2, 0]\n",
    "        defcount += 1"
   ]
  },
  {
   "cell_type": "markdown",
   "metadata": {},
   "source": [
    "We can compute mean values to ensure that this worked as planned:"
   ]
  },
  {
   "cell_type": "code",
   "execution_count": 17,
   "metadata": {
    "collapsed": true
   },
   "outputs": [],
   "source": [
    "meancoor = coormat.mean(axis=0)"
   ]
  },
  {
   "cell_type": "code",
   "execution_count": 18,
   "metadata": {},
   "outputs": [
    {
     "data": {
      "image/png": "[encoded data removed]",
      "text/plain": [
       "<matplotlib.figure.Figure at 0x21157765780>"
      ]
     },
     "metadata": {},
     "output_type": "display_data"
    }
   ],
   "source": [
    "fig443 = plt.figure(443)\n",
    "ax = fig443.add_subplot(111)\n",
    "ax.imshow(cla)\n",
    "ax.scatter(cla_coord[ix, 1], cla_coord[ix, 0], c='black')\n",
    "for i in range(7):\n",
    "    ax.scatter(meancoor[i], meancoor[i+7], c='red')"
   ]
  },
  {
   "cell_type": "markdown",
   "metadata": {},
   "source": [
    "Here, black dots represent coordinates inferred from the average image, and red dots are the average values for coordinates found in all images of this cluster. As we can see, those 2 sets correspond very closely."
   ]
  },
  {
   "cell_type": "markdown",
   "metadata": {},
   "source": [
    "Here we will define a function that will do this analysis automatically:"
   ]
  },
  {
   "cell_type": "code",
   "execution_count": 19,
   "metadata": {
    "collapsed": true
   },
   "outputs": [],
   "source": [
    "def clustAnalysis(totdefim, clusters, atomic_coord,  atomgen, imcenter, nn, numcluster, thresh=0.5):\n",
    "    \n",
    "    \n",
    "    cl = totdefim[clusters == numcluster]\n",
    "    cla = np.mean(cl, axis=0)\n",
    "    cla2 = cla.reshape(1, cla.shape[0], cla.shape[1], 1)\n",
    "    clapred = atomgen.predict(cla2).reshape(1, cla.shape[0], cla.shape[0], 2)\n",
    "    cla_coord = get_coordinates(cla2, clapred, channel = 1, threshold=thresh)[0]\n",
    "\n",
    "    T = cKDTree(cla_coord)\n",
    "    d, ix = T.query(imcenter, nn)\n",
    "    \n",
    "    ndefs = (clusters == numcluster).sum()\n",
    "    coormat = np.zeros(shape=(ndefs, 14))\n",
    "    defcount = 0\n",
    "    for i in range(len(atomic_coord)):\n",
    "        if clusters[i] == numcluster:\n",
    "            T2 = cKDTree(atomic_coord[i])\n",
    "            d2, ix2 = T2.query(cla_coord[ix], 1)\n",
    "            coormat[defcount, 0:7] = atomic_coord[i][ix2, 1]\n",
    "            coormat[defcount, 7:] = atomic_coord[i][ix2, 0]\n",
    "            defcount += 1\n",
    "            \n",
    "    return cla, cla_coord[ix], coormat"
   ]
  },
  {
   "cell_type": "markdown",
   "metadata": {},
   "source": [
    "#### 3. PCA on structures"
   ]
  },
  {
   "cell_type": "markdown",
   "metadata": {},
   "source": [
    "We can perfrom PCA on resulting matrices for each cluster to identify most important variations in those coordinates"
   ]
  },
  {
   "cell_type": "code",
   "execution_count": 20,
   "metadata": {
    "collapsed": true
   },
   "outputs": [],
   "source": [
    "cla, cla_coord, coormat = clustAnalysis(totdefim, clusters, atomic_coord,  atomgen, imcenter, nn, 1, 0.5)"
   ]
  },
  {
   "cell_type": "markdown",
   "metadata": {},
   "source": [
    "For each sample, we subtract center of mass of all atoms from each individual atoms"
   ]
  },
  {
   "cell_type": "code",
   "execution_count": 21,
   "metadata": {
    "collapsed": true
   },
   "outputs": [],
   "source": [
    "coormat2 = np.zeros_like(coormat)\n",
    "for i, coor in enumerate(coormat):\n",
    "    coormat2[i, 0:7] = coor[0:7] - coor[0:7].mean()\n",
    "    coormat2[i, 7:] = coor[7:] - coor[7:].mean()"
   ]
  },
  {
   "cell_type": "markdown",
   "metadata": {},
   "source": [
    "We use SVD to compute eigenvectors. The first one shows average positions, and later ones show directions of significant variance."
   ]
  },
  {
   "cell_type": "code",
   "execution_count": 22,
   "metadata": {
    "collapsed": true
   },
   "outputs": [],
   "source": [
    "U, s, V = np.linalg.svd(coormat2, full_matrices=False)\n",
    "e_vec = s*V.T"
   ]
  },
  {
   "cell_type": "code",
   "execution_count": 23,
   "metadata": {
    "collapsed": true
   },
   "outputs": [],
   "source": [
    "colors = ['red', 'blue', 'green', 'black', 'magenta', 'cyan', 'darkviolet', 'darkorange', 'gold', 'pink']"
   ]
  },
  {
   "cell_type": "code",
   "execution_count": 24,
   "metadata": {
    "scrolled": true
   },
   "outputs": [
    {
     "data": {
      "image/png": "[encoded data removed]",
      "text/plain": [
       "<matplotlib.figure.Figure at 0x21162ae57f0>"
      ]
     },
     "metadata": {},
     "output_type": "display_data"
    }
   ],
   "source": [
    "# number of PCA components to display\n",
    "n_comp = 2\n",
    "fig444 = plt.figure(444, figsize=(5, 5))\n",
    "ax = fig444.add_subplot(111)\n",
    "ax.axis([-620, 620, - 620, 620])\n",
    "scale = 5\n",
    "for i in range(7):\n",
    "    ax.scatter(e_vec[i, 0], e_vec[i+7, 0], c='k')\n",
    "        \n",
    "    for i2 in range(n_comp):\n",
    "        P.arrow(e_vec[i, 0], e_vec[i + 7, 0], \n",
    "            scale * (e_vec[i, i2 + 1]), scale *( e_vec[i+7, i2 + 1]), \n",
    "            head_width=5, head_length=10, ec=colors[i2])"
   ]
  },
  {
   "cell_type": "code",
   "execution_count": null,
   "metadata": {
    "collapsed": true
   },
   "outputs": [],
   "source": []
  }
 ],
 "metadata": {
  "kernelspec": {
   "display_name": "Python 3",
   "language": "python",
   "name": "python3"
  },
  "language_info": {
   "codemirror_mode": {
    "name": "ipython",
    "version": 3
   },
   "file_extension": ".py",
   "mimetype": "text/x-python",
   "name": "python",
   "nbconvert_exporter": "python",
   "pygments_lexer": "ipython3",
   "version": "3.5.3"
  }
 },
 "nbformat": 4,
 "nbformat_minor": 2
}
